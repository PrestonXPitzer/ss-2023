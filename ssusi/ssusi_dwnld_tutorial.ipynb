{
 "cells": [
  {
   "cell_type": "code",
   "execution_count": 1,
   "metadata": {},
   "outputs": [],
   "source": [
    "import os\n",
    "import datetime\n",
    "import dwnld_ssusi,read_ssusi"
   ]
  },
  {
   "cell_type": "code",
   "execution_count": 2,
   "metadata": {},
   "outputs": [],
   "source": [
    "start_date = datetime.datetime( 2023, 3, 24 )#datetime.datetime( 2011, 7, 5 )\n",
    "end_date = datetime.datetime( 2023, 3, 24 )#datetime.datetime( 2011, 7, 5 )"
   ]
  },
  {
   "cell_type": "code",
   "execution_count": 3,
   "metadata": {},
   "outputs": [],
   "source": [
    "tempFileDir = \"../data/ssusi/\"# Make sure you have this dir or create it\n",
    "satList = [ \"f16\", \"f17\", \"f18\" ]#[\"f19\"]#\n",
    "ssDwnldObj = dwnld_ssusi.SSUSIDownload(\\\n",
    "                outBaseDir = tempFileDir)\n",
    "dataTypeList = [ \"sdr\" ]\n",
    "\n",
    "curr_date = start_date\n",
    "tDelta = datetime.timedelta(days=1)\n",
    "while curr_date <= end_date:\n",
    "    print(\"currently downloading files for --> \",\\\n",
    "        curr_date.strftime(\"%Y-%m-%d\"))\n",
    "    ssDwnldObj.download_files(curr_date, dataTypeList, satList=satList)\n",
    "    curr_date = curr_date + tDelta"
   ]
  },
  {
   "cell_type": "code",
   "execution_count": 4,
   "metadata": {},
   "outputs": [
    {
     "name": "stdout",
     "output_type": "stream",
     "text": [
      "20230324\n",
      "processing data -->  2023-03-24  sat--> f16\n",
      "currently working with file--> ../data/ssusi/f16/20230324/PS.APL_V0116S027CE0019_SC.U_DI.A_GP.F16-SSUSI_PA.APL-SDR-DISK_DD.20170821_SN.71426-00_DF.NC\n",
      "processing---> 1 / 2 files\n",
      "currently working with file--> ../data/ssusi/f16/20230324/PS.APL_V0116S027CE0019_SC.U_DI.A_GP.F16-SSUSI_PA.APL-SDR-DISK_DD.20170821_SN.71427-00_DF.NC\n",
      "processing---> 2 / 2 files\n",
      "20230324\n",
      "processing data -->  2023-03-24  sat--> f17\n",
      "currently working with file--> ../data/ssusi/f17/20230324/PS.APL_V0116S027CE0008_SC.U_DI.A_GP.F17-SSUSI_PA.APL-SDR-DISK_DD.20230324_SN.084545-00_DF.NC\n",
      "processing---> 1 / 15 files\n",
      "currently working with file--> ../data/ssusi/f17/20230324/PS.APL_V0116S027CE0008_SC.U_DI.A_GP.F17-SSUSI_PA.APL-SDR-DISK_DD.20230324_SN.084546-00_DF.NC\n",
      "processing---> 2 / 15 files\n",
      "currently working with file--> ../data/ssusi/f17/20230324/PS.APL_V0116S027CE0008_SC.U_DI.A_GP.F17-SSUSI_PA.APL-SDR-DISK_DD.20230324_SN.084542-00_DF.NC\n",
      "processing---> 3 / 15 files\n",
      "currently working with file--> ../data/ssusi/f17/20230324/PS.APL_V0116S027CE0008_SC.U_DI.A_GP.F17-SSUSI_PA.APL-SDR-DISK_DD.20230324_SN.084541-00_DF.NC\n",
      "processing---> 4 / 15 files\n",
      "currently working with file--> ../data/ssusi/f17/20230324/PS.APL_V0116S027CE0008_SC.U_DI.A_GP.F17-SSUSI_PA.APL-SDR-DISK_DD.20230324_SN.084544-00_DF.NC\n",
      "processing---> 5 / 15 files\n",
      "currently working with file--> ../data/ssusi/f17/20230324/PS.APL_V0116S027CE0008_SC.U_DI.A_GP.F17-SSUSI_PA.APL-SDR-DISK_DD.20230324_SN.084553-00_DF.NC\n",
      "processing---> 6 / 15 files\n",
      "currently working with file--> ../data/ssusi/f17/20230324/PS.APL_V0116S027CE0008_SC.U_DI.A_GP.F17-SSUSI_PA.APL-SDR-DISK_DD.20230324_SN.084543-00_DF.NC\n",
      "processing---> 7 / 15 files\n",
      "currently working with file--> ../data/ssusi/f17/20230324/PS.APL_V0116S027CE0008_SC.U_DI.A_GP.F17-SSUSI_PA.APL-SDR-DISK_DD.20230324_SN.084555-00_DF.NC\n",
      "processing---> 8 / 15 files\n",
      "currently working with file--> ../data/ssusi/f17/20230324/PS.APL_V0116S027CE0008_SC.U_DI.A_GP.F17-SSUSI_PA.APL-SDR-DISK_DD.20230324_SN.084548-00_DF.NC\n",
      "processing---> 9 / 15 files\n",
      "currently working with file--> ../data/ssusi/f17/20230324/PS.APL_V0116S027CE0008_SC.U_DI.A_GP.F17-SSUSI_PA.APL-SDR-DISK_DD.20230324_SN.084554-00_DF.NC\n",
      "processing---> 10 / 15 files\n",
      "currently working with file--> ../data/ssusi/f17/20230324/PS.APL_V0116S027CE0008_SC.U_DI.A_GP.F17-SSUSI_PA.APL-SDR-DISK_DD.20230324_SN.084550-00_DF.NC\n",
      "processing---> 11 / 15 files\n",
      "currently working with file--> ../data/ssusi/f17/20230324/PS.APL_V0116S027CE0008_SC.U_DI.A_GP.F17-SSUSI_PA.APL-SDR-DISK_DD.20230324_SN.084551-00_DF.NC\n",
      "processing---> 12 / 15 files\n",
      "currently working with file--> ../data/ssusi/f17/20230324/PS.APL_V0116S027CE0008_SC.U_DI.A_GP.F17-SSUSI_PA.APL-SDR-DISK_DD.20230324_SN.084549-00_DF.NC\n",
      "processing---> 13 / 15 files\n",
      "currently working with file--> ../data/ssusi/f17/20230324/PS.APL_V0116S027CE0008_SC.U_DI.A_GP.F17-SSUSI_PA.APL-SDR-DISK_DD.20230324_SN.084552-00_DF.NC\n",
      "processing---> 14 / 15 files\n",
      "currently working with file--> ../data/ssusi/f17/20230324/PS.APL_V0116S027CE0008_SC.U_DI.A_GP.F17-SSUSI_PA.APL-SDR-DISK_DD.20230324_SN.084547-00_DF.NC\n",
      "processing---> 15 / 15 files\n",
      "20230324\n",
      "processing data -->  2023-03-24  sat--> f18\n",
      "currently working with file--> ../data/ssusi/f18/20230324/PS.APL_V0116S027CB0006_SC.U_DI.A_GP.F18-SSUSI_PA.APL-SDR-DISK_DD.20230324_SN.069270-00_DF.NC\n",
      "processing---> 1 / 13 files\n",
      "currently working with file--> ../data/ssusi/f18/20230324/PS.APL_V0116S027CB0006_SC.U_DI.A_GP.F18-SSUSI_PA.APL-SDR-DISK_DD.20230324_SN.069272-00_DF.NC\n",
      "processing---> 2 / 13 files\n",
      "currently working with file--> ../data/ssusi/f18/20230324/PS.APL_V0116S027CB0006_SC.U_DI.A_GP.F18-SSUSI_PA.APL-SDR-DISK_DD.20230324_SN.069271-00_DF.NC\n",
      "processing---> 3 / 13 files\n",
      "currently working with file--> ../data/ssusi/f18/20230324/PS.APL_V0116S027CB0006_SC.U_DI.A_GP.F18-SSUSI_PA.APL-SDR-DISK_DD.20230324_SN.069267-00_DF.NC\n",
      "processing---> 4 / 13 files\n",
      "currently working with file--> ../data/ssusi/f18/20230324/PS.APL_V0116S027CB0006_SC.U_DI.A_GP.F18-SSUSI_PA.APL-SDR-DISK_DD.20230324_SN.069268-00_DF.NC\n",
      "processing---> 5 / 13 files\n",
      "currently working with file--> ../data/ssusi/f18/20230324/PS.APL_V0116S027CB0006_SC.U_DI.A_GP.F18-SSUSI_PA.APL-SDR-DISK_DD.20230324_SN.069273-00_DF.NC\n",
      "processing---> 6 / 13 files\n",
      "currently working with file--> ../data/ssusi/f18/20230324/PS.APL_V0116S027CB0006_SC.U_DI.A_GP.F18-SSUSI_PA.APL-SDR-DISK_DD.20230324_SN.069261-00_DF.NC\n",
      "processing---> 7 / 13 files\n",
      "currently working with file--> ../data/ssusi/f18/20230324/PS.APL_V0116S027CB0006_SC.U_DI.A_GP.F18-SSUSI_PA.APL-SDR-DISK_DD.20230324_SN.069263-00_DF.NC\n",
      "processing---> 8 / 13 files\n",
      "currently working with file--> ../data/ssusi/f18/20230324/PS.APL_V0116S027CB0006_SC.U_DI.A_GP.F18-SSUSI_PA.APL-SDR-DISK_DD.20230324_SN.069269-00_DF.NC\n",
      "processing---> 9 / 13 files\n",
      "currently working with file--> ../data/ssusi/f18/20230324/PS.APL_V0116S027CB0006_SC.U_DI.A_GP.F18-SSUSI_PA.APL-SDR-DISK_DD.20230324_SN.069264-00_DF.NC\n",
      "processing---> 10 / 13 files\n",
      "currently working with file--> ../data/ssusi/f18/20230324/PS.APL_V0116S027CB0006_SC.U_DI.A_GP.F18-SSUSI_PA.APL-SDR-DISK_DD.20230324_SN.069266-00_DF.NC\n",
      "processing---> 11 / 13 files\n",
      "currently working with file--> ../data/ssusi/f18/20230324/PS.APL_V0116S027CB0006_SC.U_DI.A_GP.F18-SSUSI_PA.APL-SDR-DISK_DD.20230324_SN.069262-00_DF.NC\n",
      "processing---> 12 / 13 files\n",
      "currently working with file--> ../data/ssusi/f18/20230324/PS.APL_V0116S027CB0006_SC.U_DI.A_GP.F18-SSUSI_PA.APL-SDR-DISK_DD.20230324_SN.069265-00_DF.NC\n",
      "processing---> 13 / 13 files\n"
     ]
    }
   ],
   "source": [
    "rawFileDir = \"../data/ssusi/\" # Make sure you have this dir or create it\n",
    "prcsdFileDir = \"../data/ssusi/\"\n",
    "tDelta = datetime.timedelta(days=1)\n",
    "satList = [ \"f16\", \"f17\", \"f18\" ]#[\"f19\"]\n",
    "\n",
    "curr_date = start_date\n",
    "while curr_date <= end_date:\n",
    "    for currSat in satList:\n",
    "        currDir = rawFileDir + currSat + \"/\"\n",
    "        for root, dirs, files in os.walk(currDir):\n",
    "            for nd, dd in enumerate(dirs):\n",
    "                print(dd)\n",
    "                if curr_date.strftime(\"%Y%m%d\") not in dd:\n",
    "                    continue\n",
    "                print( \"processing data --> \",\\\n",
    "                         curr_date.strftime(\"%Y-%m-%d\"), \" sat-->\", currSat)\n",
    "                ssRdObj = read_ssusi.ProcessData( [root + dd + \"/\"],\\\n",
    "                             prcsdFileDir, curr_date )\n",
    "                ssRdObj.processed_data_to_file(keepRawFiles=True)\n",
    "    curr_date += tDelta"
   ]
  },
  {
   "cell_type": "code",
   "execution_count": null,
   "metadata": {},
   "outputs": [],
   "source": []
  }
 ],
 "metadata": {
  "kernelspec": {
   "display_name": "Python [conda env:data_analysis]",
   "language": "python",
   "name": "conda-env-data_analysis-py"
  },
  "language_info": {
   "codemirror_mode": {
    "name": "ipython",
    "version": 3
   },
   "file_extension": ".py",
   "mimetype": "text/x-python",
   "name": "python",
   "nbconvert_exporter": "python",
   "pygments_lexer": "ipython3",
   "version": "3.7.9"
  }
 },
 "nbformat": 4,
 "nbformat_minor": 2
}
